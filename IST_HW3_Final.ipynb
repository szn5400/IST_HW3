{
  "nbformat": 4,
  "nbformat_minor": 0,
  "metadata": {
    "colab": {
      "name": "IST_HW3_Final.ipynb",
      "provenance": [],
      "authorship_tag": "ABX9TyN48DSMhSG/n66UhuvI3FaY",
      "include_colab_link": true
    },
    "kernelspec": {
      "name": "python3",
      "display_name": "Python 3"
    },
    "language_info": {
      "name": "python"
    }
  },
  "cells": [
    {
      "cell_type": "markdown",
      "metadata": {
        "id": "view-in-github",
        "colab_type": "text"
      },
      "source": [
        "<a href=\"https://colab.research.google.com/github/szn5400/IST_HW3/blob/main/IST_HW3_Final.ipynb\" target=\"_parent\"><img src=\"https://colab.research.google.com/assets/colab-badge.svg\" alt=\"Open In Colab\"/></a>"
      ]
    },
    {
      "cell_type": "code",
      "execution_count": null,
      "metadata": {
        "id": "h2KoGqTZ-qDo"
      },
      "outputs": [],
      "source": [
        "from keras.datasets import mnist\n",
        "(x_train, y_train), (x_test, y_test) = mnist.load_data()"
      ]
    },
    {
      "cell_type": "code",
      "source": [
        "import numpy as np\n",
        "from sklearn import preprocessing\n",
        "from tensorflow.keras.datasets import mnist\n",
        "\n",
        "# Define the One-hot Encoder\n",
        "ohe = preprocessing.OneHotEncoder()\n",
        "\n",
        "# Load MNIST data\n",
        "#(x_train, y_train), (x_test, y_test) = mnist.load_data()\n",
        "\n",
        "# Reshape data\n",
        "y_train = y_train.reshape(-1, 1)\n",
        "y_test = y_test.reshape(-1, 1)\n",
        "\n",
        "# Fit and transform training data\n",
        "ohe.fit(y_train)\n",
        "transformed_train = ohe.transform(y_train).toarray()\n",
        "\n",
        "# Fit and transform testing data\n",
        "ohe.fit(y_test)\n",
        "transformed_test = ohe.transform(y_test).toarray()"
      ],
      "metadata": {
        "id": "4KQJJtZE-wgW"
      },
      "execution_count": null,
      "outputs": []
    },
    {
      "cell_type": "code",
      "source": [
        "print('X_train: ' + str(x_train.shape))\n",
        "print('Y_train: ' + str(transformed_train.shape))\n",
        "print('X_test:  '  + str(x_test.shape))\n",
        "print('Y_test:  '  + str(transformed_test.shape))"
      ],
      "metadata": {
        "colab": {
          "base_uri": "https://localhost:8080/"
        },
        "id": "w5URPz_Q--Be",
        "outputId": "14152c0d-fb43-42a7-d7f5-b97ebe251141"
      },
      "execution_count": null,
      "outputs": [
        {
          "output_type": "stream",
          "name": "stdout",
          "text": [
            "X_train: (60000, 28, 28)\n",
            "Y_train: (60000, 10)\n",
            "X_test:  (10000, 28, 28)\n",
            "Y_test:  (10000, 10)\n"
          ]
        }
      ]
    },
    {
      "cell_type": "code",
      "source": [
        "train_X_mod = x_train.reshape(60000, 784)\n",
        "train_y_mod = transformed_train\n",
        "test_X_mod = x_test.reshape(10000, 784)\n",
        "test_y_mod = transformed_test"
      ],
      "metadata": {
        "id": "kXv77GcY_ADg"
      },
      "execution_count": null,
      "outputs": []
    },
    {
      "cell_type": "code",
      "source": [
        "size_input = 784\n",
        "size_hidden1 = 512\n",
        "size_hidden2 = 256\n",
        "size_output = 10\n",
        "number_of_train_examples = 60000\n",
        "number_of_test_examples = 10000"
      ],
      "metadata": {
        "id": "GggGTqfi_CPs"
      },
      "execution_count": null,
      "outputs": []
    },
    {
      "cell_type": "code",
      "source": [
        "import tensorflow as tf\n",
        "X_train = tf.keras.utils.normalize(train_X_mod, axis=1)\n",
        "y_train = train_y_mod\n",
        "X_test = test_X_mod\n",
        "y_test = test_y_mod "
      ],
      "metadata": {
        "id": "G4JdXeii_D9q"
      },
      "execution_count": null,
      "outputs": []
    },
    {
      "cell_type": "code",
      "source": [
        "import os\n",
        "import numpy as np\n",
        "import time\n",
        "\n",
        "np.random.seed(43)\n",
        "tf.random.set_seed(43)\n",
        "# Split dataset into batches\n",
        "train_ds = tf.data.Dataset.from_tensor_slices((X_train, y_train)).batch(128)\n",
        "test_ds = tf.data.Dataset.from_tensor_slices((X_test, y_test)).batch(4)"
      ],
      "metadata": {
        "id": "tlnaqK-0_F26"
      },
      "execution_count": null,
      "outputs": []
    },
    {
      "cell_type": "code",
      "source": [
        "class MLP(object):\n",
        "  def __init__(self, size_input, size_hidden1, size_hidden2, size_output, device=None):\n",
        "    \"\"\"\n",
        "    size_input: int, size of input layer\n",
        "    size_hidden1: int, size of hidden layer 1\n",
        "    size_hidden2: int, size of hodden layer 2\n",
        "    size_output: int, size of output layer\n",
        "    device: str or None, either 'cpu' or 'gpu' or None. If None, the device to be used will be decided automatically during Eager Execution\n",
        "    \"\"\"\n",
        "    self.size_input, self.size_hidden1, self.size_hidden2, self.size_output, self.device =\\\n",
        "    size_input, size_hidden1, size_hidden2, size_output, device\n",
        "    \n",
        "    # Initialize weights between input layer and hidden layer\n",
        "    self.W1 = tf.Variable(tf.random.normal([self.size_input, self.size_hidden1],stddev=0.1))\n",
        "    # Initialize biases for hidden layer\n",
        "    self.b1 = tf.Variable(tf.zeros([1, self.size_hidden1]))\n",
        "    # Initialize weights between input layer and hidden layer\n",
        "    self.W2 = tf.Variable(tf.random.normal([self.size_hidden1, self.size_hidden2],stddev=0.1))\n",
        "    # Initialize biases for hidden layer\n",
        "    self.b2 = tf.Variable(tf.zeros([1, self.size_hidden2]))\n",
        "     # Initialize weights between hidden layer and output layer\n",
        "    self.W3 = tf.Variable(tf.random.normal([self.size_hidden2, self.size_output],stddev=0.1))\n",
        "    # Initialize biases for output layer\n",
        "    self.b3 = tf.Variable(tf.zeros([1, self.size_output]))\n",
        "    \n",
        "    # Define variables to be updated during backpropagation\n",
        "    self.variables = [self.W1, self.W2, self.W3, self.b1, self.b2, self.b3]\n",
        "    \n",
        "    self.t=0\n",
        "    self.mt=[tf.zeros_like(self.W1,dtype=tf.float32), tf.zeros_like(self.W2,dtype=tf.float32),tf.zeros_like(self.W3,dtype=tf.float32),tf.zeros_like(self.b1,dtype=tf.float32),tf.zeros_like(self.b2,dtype=tf.float32),tf.zeros_like(self.b3,dtype=tf.float32)]\n",
        "    self.vt=[tf.zeros_like(self.W1,dtype=tf.float32), tf.zeros_like(self.W2,dtype=tf.float32),tf.zeros_like(self.W3,dtype=tf.float32),tf.zeros_like(self.b1,dtype=tf.float32),tf.zeros_like(self.b2,dtype=tf.float32),tf.zeros_like(self.b3,dtype=tf.float32)]\n",
        "    self.ut=[tf.zeros_like(self.W1,dtype=tf.float32), tf.zeros_like(self.W2,dtype=tf.float32),tf.zeros_like(self.W3,dtype=tf.float32),tf.zeros_like(self.b1,dtype=tf.float32),tf.zeros_like(self.b2,dtype=tf.float32),tf.zeros_like(self.b3,dtype=tf.float32)]\n",
        "    \n",
        "  def forward(self, X):\n",
        "    \"\"\"\n",
        "    forward pass\n",
        "    X: Tensor, inputs\n",
        "    \"\"\"\n",
        "    if self.device is not None:\n",
        "      with tf.device('gpu:0' if self.device=='gpu' else 'cpu'):\n",
        "        self.y = self.compute_output(X)\n",
        "    else:\n",
        "      self.y = self.compute_output(X)\n",
        "      \n",
        "    return self.y\n",
        "  \n",
        "  def loss(self, y_pred, y_true):\n",
        "    '''\n",
        "    y_pred - Tensor of shape (batch_size, size_output)\n",
        "    y_true - Tensor of shape (batch_size, size_output)\n",
        "    '''\n",
        "    y_true_tf = tf.cast(tf.reshape(y_true, (-1, self.size_output)), dtype=tf.float32)\n",
        "    y_pred_tf = tf.cast(y_pred, dtype=tf.float32)\n",
        "    #return tf.losses.mean_squared_error(y_true_tf, y_pred_tf)\n",
        "    #print(y_true_tf)\n",
        "    #print(y_pred_tf)\n",
        "    cce = tf.keras.losses.CategoricalCrossentropy()\n",
        "    loss_val = cce(y_true_tf, y_pred_tf)\n",
        "    regularizer = tf.nn.l2_loss(self.W1)+tf.nn.l2_loss(self.W2)\n",
        "    loss_val = tf.reduce_mean(loss_val + 0.01 * regularizer)\n",
        "    \n",
        "    #print(loss_val)\n",
        "    return loss_val\n",
        "\n",
        "  def accuracy(self, y_pred, y_true):\n",
        "    '''\n",
        "    y_pred - Tensor of shape (batch_size, size_output)\n",
        "    y_true - Tensor of shape (batch_size, size_output)\n",
        "    '''\n",
        "    '''\n",
        "    y_true_tf = tf.cast(tf.reshape(y_true, (-1, self.size_output)), dtype=tf.float32)\n",
        "    #y_pred_tf = tf.cast(y_pred, dtype=tf.float32)\n",
        "    y_pred_tf = tf.cast(tf.reshape(y_pred, (-1, self.size_output)), dtype=tf.float32)\n",
        "    print(y_true_tf)\n",
        "    print(y_pred_tf)\n",
        "    ## CALCULATING COST AND ACCURACY\n",
        "    #cost = tf.reduce_mean(tf.nn.softmax_cross_entropy_with_logits(logits=y_preds, labels=y))\n",
        "    #optimizer = tf.train.AdamOptimizer(learning_rate=1e-3).minimize(cost)\n",
        "    correct_pred = tf.equal(tf.argmax(y_pred, 1), tf.argmax(y_true, 1))\n",
        "    #print(correct_pred)\n",
        "    accuracy = tf.reduce_mean(tf.cast(correct_pred, tf.float32), name='accuracy')\n",
        "    #print(ac)\n",
        "    return accuracy\n",
        "    '''\n",
        "    y_true_tf = tf.cast(tf.reshape(y_true, (-1, self.size_output)), dtype=tf.float32)\n",
        "    #y_pred_tf = tf.cast(y_pred, dtype=tf.float32)\n",
        "    y_pred_tf = tf.cast(tf.reshape(y_pred, (-1, self.size_output)), dtype=tf.float32)    \n",
        "    correct_pred = tf.equal(tf.argmax(y_pred, 1), tf.argmax(y_true, 1))\n",
        "    #print(correct_pred)\n",
        "    accuracy = tf.reduce_mean(tf.cast(correct_pred, tf.float32), name='accuracy')\n",
        "    #print(accuracy)\n",
        "    return accuracy\n",
        "  \n",
        "  def backward(self, X_train, y_train):\n",
        "    \"\"\"\n",
        "    backward pass\n",
        "    \"\"\"\n",
        "    '''\n",
        "    optimizer = tf.keras.optimizers.SGD(learning_rate=1e-2)\n",
        "    with tf.GradientTape() as tape:\n",
        "      predicted = self.forward(X_train)\n",
        "      current_loss = self.loss(predicted, y_train)\n",
        "    grads = tape.gradient(current_loss, self.variables)\n",
        "    optimizer.apply_gradients(zip(grads, self.variables))\n",
        "    '''\n",
        "    self.t=self.t+1\n",
        "    alpha = 1e-3\n",
        "    beta_1=0.9\n",
        "    beta_2=0.999\n",
        "    beta_3=0.999987\n",
        "    eps=1e-8\n",
        "    eps2 = 1e-1 \n",
        "    \n",
        "    with tf.GradientTape() as tape:\n",
        "      predicted = self.forward(X_train)\n",
        "      current_loss = self.loss(predicted, y_train)\n",
        "    grads = tape.gradient(current_loss, self.variables)\n",
        "    #grads = grads+eps2\n",
        "    #print(grads)\n",
        "    #print(len(grads[0]))\n",
        "    #print(len(grads[1]))\n",
        "    #print(len(self.m[0]))\n",
        "    #print(len(self.m[1]))\n",
        "\n",
        "    self.mt=[m_val*beta_1+(1-beta_1)*g for m_val, g in zip(self.mt, grads) ]\n",
        "    self.vt=[v_val*beta_3+(1-beta_3)*(g**3) for v_val, g in zip(self.vt, grads) ]\n",
        "    self.ut=[u_val*beta_2+(1-beta_2)*(g**2) for u_val, g in zip(self.ut, grads) ]\n",
        "    '''\n",
        "    print('MT')\n",
        "    print(self.mt)\n",
        "    print('VT')\n",
        "    print(self.vt)\n",
        "    print('UT')\n",
        "    print(self.ut)\n",
        "    '''\n",
        "\n",
        "    mt_hat=[m_val/(1-(beta_1**self.t)) for m_val in self.mt]\n",
        "    vt_hat=[v_val/(1-(beta_3**self.t)) for v_val in self.vt]\n",
        "    ut_hat=[u_val/(1-(beta_2**self.t)) for u_val in self.ut]\n",
        "    #print('MT_hat')\n",
        "    #print(self.mt)\n",
        "    #print('VT_hat')\n",
        "    #print(self.vt)\n",
        "    #print('UT_hat')\n",
        "    #print(self.ut)\n",
        "    \n",
        "    dws_new = [(alpha * m_val /(np.sqrt(np.abs(v_val))+(np.power(np.abs(u_val),0.3333)*eps)+eps2)) for m_val, v_val, u_val in zip(mt_hat,vt_hat,ut_hat)]\n",
        "    #dws_new = [(alpha * m_val /(eps2)) for m_val, v_val, u_val in zip(mt_hat,vt_hat,ut_hat)]\n",
        "    #print('dws_new')\n",
        "    #print(dws_new)\n",
        "    Wt = [wt - d for wt,d in zip(self.variables, dws_new)]\n",
        "    #print(Wt)\n",
        "    W1 = self.variables[0]\n",
        "    W1.assign(Wt[0])\n",
        "    W2 = self.variables[1]\n",
        "    W2.assign(Wt[1])\n",
        "    W3 = self.variables[2]\n",
        "    W3.assign(Wt[2])\n",
        "    b1 = self.variables[3]\n",
        "    b1.assign(Wt[3])\n",
        "    b2 = self.variables[4]\n",
        "    b2.assign(Wt[4])\n",
        "    b3 = self.variables[5]\n",
        "    b3.assign(Wt[5])       \n",
        "        \n",
        "  def compute_output(self, X):\n",
        "    \"\"\"\n",
        "    Custom method to obtain output tensor during forward pass\n",
        "    \"\"\"\n",
        "    # Cast X to float32\n",
        "    X_tf = tf.cast(X, dtype=tf.float32)\n",
        "    #Remember to normalize your dataset before moving forward\n",
        "    # Compute values in hidden layer1\n",
        "    what1 = tf.matmul(X_tf, self.W1) + self.b1\n",
        "    hhat1 = tf.nn.relu(what1)\n",
        "    hhat1_1 = tf.nn.dropout(hhat1, 0.25)\n",
        "\n",
        "    # Compute values in hidden layer2\n",
        "    what2 = tf.matmul(hhat1_1, self.W2) + self.b2\n",
        "    hhat2 = tf.nn.relu(what2)\n",
        "    hhat2_1 = tf.nn.dropout(hhat2, 0.25)\n",
        "    \n",
        "    # Compute output\n",
        "    output = tf.matmul(hhat2_1, self.W3) + self.b3\n",
        "    #Now consider two things , First look at inbuild loss functions if they work with softmax or not and then change this\n",
        "    #Second add tf.Softmax(output) and then return this variable\n",
        "    output = tf.nn.softmax(output)\n",
        "    return output"
      ],
      "metadata": {
        "id": "PUgH5FSZ_JFZ"
      },
      "execution_count": null,
      "outputs": []
    },
    {
      "cell_type": "code",
      "source": [
        "# Set number of epochs\n",
        "NUM_EPOCHS = 30"
      ],
      "metadata": {
        "id": "g-bA9cHd_Pw1"
      },
      "execution_count": null,
      "outputs": []
    },
    {
      "cell_type": "code",
      "source": [
        "# Initialize model using CPU\n",
        "mlp_on_cpu = MLP(size_input, size_hidden1, size_hidden2, size_output, device='cpu')\n",
        "\n",
        "# Array to store accuracy and loss\n",
        "loss_with_epoch = []\n",
        "acc_with_epoch = []\n",
        "\n",
        "time_start = time.time()\n",
        "for epoch in range(NUM_EPOCHS):\n",
        "  ac = 0\n",
        "  count = 0\n",
        "  loss_total = tf.zeros([1,1], dtype=tf.float32)\n",
        "  lt = 0\n",
        "  train_ds = tf.data.Dataset.from_tensor_slices((X_train, y_train)).shuffle(25, seed=epoch*(1234)).batch(20)\n",
        "  for inputs, outputs in train_ds:\n",
        "    preds = mlp_on_cpu.forward(inputs)\n",
        "    loss_total = loss_total + mlp_on_cpu.loss(preds, outputs)\n",
        "    lt = lt + mlp_on_cpu.loss(preds, outputs)\n",
        "    mlp_on_cpu.backward(inputs, outputs)\n",
        "    ac = ac+mlp_on_cpu.accuracy(preds, outputs)\n",
        "    #ac = mlp_on_cpu.accuracy(preds, outputs)\n",
        "    count += 1\n",
        "  print('Number of Epoch = {} - Average celoss:= {}- Acc:= {} '.format(epoch + 1, np.sum(loss_total) / X_train.shape[0], ac/count))\n",
        "  loss_with_epoch.append(np.sum(loss_total) / X_train.shape[0])\n",
        "  acc_with_epoch.append(ac/count)\n",
        "time_taken = time.time() - time_start\n",
        "\n",
        "print('\\nTotal time taken (in seconds): {:.2f}'.format(time_taken))\n",
        "#For per epoch_time = Total_Time / Number_of_epochs"
      ],
      "metadata": {
        "colab": {
          "base_uri": "https://localhost:8080/"
        },
        "id": "u0cBFV6N_SuZ",
        "outputId": "083e6e14-25f3-43a4-82ee-394fcd55a05a"
      },
      "execution_count": null,
      "outputs": [
        {
          "output_type": "stream",
          "name": "stdout",
          "text": [
            "Number of Epoch = 1 - Average celoss:= 1.0679337890625- Acc:= 0.6586670875549316 \n",
            "Number of Epoch = 2 - Average celoss:= 0.5917342447916667- Acc:= 0.8314489722251892 \n",
            "Number of Epoch = 3 - Average celoss:= 0.34189765625- Acc:= 0.8552150726318359 \n",
            "Number of Epoch = 4 - Average celoss:= 0.20517618815104166- Acc:= 0.8672974705696106 \n",
            "Number of Epoch = 5 - Average celoss:= 0.12987887369791667- Acc:= 0.8740456700325012 \n",
            "Number of Epoch = 6 - Average celoss:= 0.08825201822916667- Acc:= 0.8768292665481567 \n",
            "Number of Epoch = 7 - Average celoss:= 0.06511901448567708- Acc:= 0.8801117539405823 \n",
            "Number of Epoch = 8 - Average celoss:= 0.0521357666015625- Acc:= 0.8821620941162109 \n",
            "Number of Epoch = 9 - Average celoss:= 0.04467202555338542- Acc:= 0.8833125829696655 \n",
            "Number of Epoch = 10 - Average celoss:= 0.04019212646484375- Acc:= 0.8869127035140991 \n",
            "Number of Epoch = 11 - Average celoss:= 0.03764358317057292- Acc:= 0.8889622688293457 \n",
            "Number of Epoch = 12 - Average celoss:= 0.03584993489583333- Acc:= 0.8920947313308716 \n",
            "Number of Epoch = 13 - Average celoss:= 0.03482153727213542- Acc:= 0.8926607370376587 \n",
            "Number of Epoch = 14 - Average celoss:= 0.033926676432291664- Acc:= 0.8953120112419128 \n",
            "Number of Epoch = 15 - Average celoss:= 0.033313535563151045- Acc:= 0.8953437209129333 \n",
            "Number of Epoch = 16 - Average celoss:= 0.03272406616210938- Acc:= 0.8973116874694824 \n",
            "Number of Epoch = 17 - Average celoss:= 0.03226786092122396- Acc:= 0.8998105525970459 \n",
            "Number of Epoch = 18 - Average celoss:= 0.031893874104817706- Acc:= 0.9013938903808594 \n",
            "Number of Epoch = 19 - Average celoss:= 0.03147920125325521- Acc:= 0.9024434685707092 \n",
            "Number of Epoch = 20 - Average celoss:= 0.031190604654947916- Acc:= 0.9040765762329102 \n",
            "Number of Epoch = 21 - Average celoss:= 0.030760762532552083- Acc:= 0.9054599404335022 \n",
            "Number of Epoch = 22 - Average celoss:= 0.030479752604166667- Acc:= 0.9063270092010498 \n",
            "Number of Epoch = 23 - Average celoss:= 0.030196592203776042- Acc:= 0.908392071723938 \n",
            "Number of Epoch = 24 - Average celoss:= 0.029939054361979165- Acc:= 0.9092093706130981 \n",
            "Number of Epoch = 25 - Average celoss:= 0.0297930419921875- Acc:= 0.9072775840759277 \n",
            "Number of Epoch = 26 - Average celoss:= 0.0294201171875- Acc:= 0.911392331123352 \n",
            "Number of Epoch = 27 - Average celoss:= 0.02922598876953125- Acc:= 0.911558210849762 \n",
            "Number of Epoch = 28 - Average celoss:= 0.02901044718424479- Acc:= 0.912242591381073 \n",
            "Number of Epoch = 29 - Average celoss:= 0.028758009847005207- Acc:= 0.9128753542900085 \n",
            "Number of Epoch = 30 - Average celoss:= 0.028649190266927083- Acc:= 0.9136261940002441 \n",
            "\n",
            "Total time taken (in seconds): 7471.08\n"
          ]
        }
      ]
    },
    {
      "cell_type": "code",
      "source": [
        "import numpy as np\n",
        "import matplotlib.pyplot as plt\n",
        "x = [i for i in range(1,31)]\n",
        "line1, = plt.plot(x, acc_with_epoch, label='accr')\n",
        "line2, = plt.plot(x, loss_with_epoch, label='ce loss')\n",
        "#plt.plot(x, acc_with_epoch, label='accr')\n",
        "plt.legend(handles=[line1, line2], loc='best')\n",
        "plt.grid(b=True, color='aqua', alpha=0.6, linestyle='dashdot')\n",
        "plt.show()"
      ],
      "metadata": {
        "id": "D6P8j6sY_VON"
      },
      "execution_count": null,
      "outputs": []
    },
    {
      "cell_type": "code",
      "source": [
        "test_loss_total = tf.Variable(0, dtype=tf.float32)\n",
        "#test_loss_total = 0.0\n",
        "for inputs, outputs in test_ds:\n",
        "  preds = mlp_on_cpu.forward(inputs)\n",
        "  #b = mlp_on_default.loss(preds, outputs)\n",
        "  test_loss_total = test_loss_total + mlp_on_cpu.loss(preds, outputs)\n",
        "  ac = mlp_on_cpu.accuracy(preds, outputs)\n",
        "# a = (test_loss_total.numpy() / X_train.shape[0])\n",
        "# print(X_train.shape[0])\n",
        "# print(test_loss_total.numpy())\n",
        "# print(b)\n",
        "print('Test celoss: {:.4f} and accuracy: {:.4f}'.format(np.sum(test_loss_total.numpy()) / X_train.shape[0], ac))"
      ],
      "metadata": {
        "colab": {
          "base_uri": "https://localhost:8080/"
        },
        "id": "-bOZ6UfpNRj3",
        "outputId": "355c4b93-ac1b-43db-f841-f0e0bbe7cfc4"
      },
      "execution_count": null,
      "outputs": [
        {
          "output_type": "stream",
          "name": "stdout",
          "text": [
            "Test celoss: 0.1081 and accuracy: 0.7500\n"
          ]
        }
      ]
    },
    {
      "cell_type": "code",
      "source": [
        ""
      ],
      "metadata": {
        "id": "9vwSDZj9NX0A"
      },
      "execution_count": null,
      "outputs": []
    }
  ]
}